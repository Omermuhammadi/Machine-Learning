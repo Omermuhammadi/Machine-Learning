{
 "cells": [
  {
   "cell_type": "markdown",
   "id": "56a6e983-5e40-4434-ad4c-f5777d35fe2a",
   "metadata": {},
   "source": [
    "# K Nearest Neighbours in Code"
   ]
  },
  {
   "cell_type": "code",
   "execution_count": 5,
   "id": "99102bc2-31c0-4898-9ffd-64804cb5fa9b",
   "metadata": {},
   "outputs": [],
   "source": [
    "import numpy as np\n",
    "from math import sqrt\n",
    "import matplotlib.pyplot as plt\n",
    "import warnings\n",
    "from matplotlib import style\n",
    "from collections import Counter\n",
    "\n",
    "style.use('fivethirtyeight')"
   ]
  },
  {
   "cell_type": "code",
   "execution_count": 6,
   "id": "5f8491b7-11c3-410e-9934-15230f6052d3",
   "metadata": {},
   "outputs": [
    {
     "data": {
      "text/plain": [
       "<function matplotlib.pyplot.show(close=None, block=None)>"
      ]
     },
     "execution_count": 6,
     "metadata": {},
     "output_type": "execute_result"
    },
    {
     "data": {
      "image/png": "[encoded data removed]",
      "text/plain": [
       "<Figure size 640x480 with 1 Axes>"
      ]
     },
     "metadata": {},
     "output_type": "display_data"
    }
   ],
   "source": [
    "dataset = {'k':[ [ 1,2],[2,3],[3,1]],   'r': [[6,5],[7,7],[8,6]]}\n",
    "new_features = [5,7]\n",
    "\n",
    "# [[plt.scatter(ii[0] , ii[1], s=100, color=i) for ii in dataset[i]] for i in dataset]\n",
    "# plt.scatter(new_features[0], new_features[1])\n",
    "# plt.show"
   ]
  },
  {
   "cell_type": "code",
   "execution_count": 25,
   "id": "d25decf5-8754-42b2-86e6-8436c49655d4",
   "metadata": {},
   "outputs": [
    {
     "name": "stdout",
     "output_type": "stream",
     "text": [
      "None\n"
     ]
    },
    {
     "data": {
      "text/plain": [
       "<function matplotlib.pyplot.show(close=None, block=None)>"
      ]
     },
     "execution_count": 25,
     "metadata": {},
     "output_type": "execute_result"
    },
    {
     "data": {
      "image/png": "[encoded data removed]",
      "text/plain": [
       "<Figure size 640x480 with 1 Axes>"
      ]
     },
     "metadata": {},
     "output_type": "display_data"
    }
   ],
   "source": [
    "dataset = {'k':[ [ 1,2],[2,3],[3,1]],   'r': [[6,5],[7,7],[8,6]]}\n",
    "new_features = [5,7]\n",
    "\n",
    "def k_nearest_nighbours(data,predict,k=3):\n",
    "    if len(data)>=k:\n",
    "        warnings.warn('K is set to a value less than total voting groups')\n",
    "        distances= []\n",
    "        for group in data:\n",
    "            for features in data[group]:\n",
    "                euclidean_distance = np.linalg.norm(np.array(features)-np.array(predict))\n",
    "                distances.append([euclidean_distance, group])\n",
    "\n",
    "        votes = [i[1] for i in sorted(distances)[:k]]\n",
    "        print(Counter(votes).most_common(1))\n",
    "        vote_result = Counter(votes).most_common(1)[0][0]\n",
    "        return vote_result\n",
    "\n",
    "result = k_nearest_nighbours(dataset,new_features,k=3)\n",
    "print(result)\n",
    "\n",
    "[[plt.scatter(ii[0] , ii[1], s=100, color=i) for ii in dataset[i]] for i in dataset]\n",
    "plt.scatter(new_features[0], new_features[1], color = result)\n",
    "plt.show"
   ]
  },
  {
   "cell_type": "code",
   "execution_count": null,
   "id": "5c6920e8-91aa-4db9-b352-a7ba25b9e57a",
   "metadata": {},
   "outputs": [],
   "source": []
  },
  {
   "cell_type": "markdown",
   "id": "ecbd9a48-7161-4b11-897d-11a7165dfa06",
   "metadata": {},
   "source": [
    "**applying KNN ( breast cancer dataset)**"
   ]
  },
  {
   "cell_type": "code",
   "execution_count": 118,
   "id": "07c24971-e930-48a2-b628-fe7606902dae",
   "metadata": {},
   "outputs": [
    {
     "name": "stdout",
     "output_type": "stream",
     "text": [
      "Accuracy: 0.5857142857142857\n"
     ]
    }
   ],
   "source": [
    "import pandas as pd\n",
    "import numpy as np\n",
    "import random\n",
    "import warnings\n",
    "from collections import Counter\n",
    "from ucimlrepo import fetch_ucirepo\n",
    "from sklearn.preprocessing import StandardScaler\n",
    "\n",
    "def k_nearest_neighbours(data, predict, k=3):\n",
    "    if len(data) >= k:\n",
    "        distances = []\n",
    "        for group in data:\n",
    "            for features in data[group]:\n",
    "                euclidean_distance = np.linalg.norm(np.array(features) - np.array(predict))\n",
    "                distances.append([euclidean_distance, group])\n",
    "        \n",
    "        distances.sort(key=lambda x: x[0])  # Sort by distance\n",
    "        votes = [i[1] for i in distances[:k]]\n",
    "        vote_result = Counter(votes).most_common(1)[0][0]\n",
    "        return vote_result\n",
    "    else:\n",
    "        warnings.warn('K is set to a value less than total voting groups')\n",
    "\n",
    "# Fetch the dataset\n",
    "breast_cancer_wisconsin = fetch_ucirepo(id=15)\n",
    "df = pd.DataFrame(data=breast_cancer_wisconsin.data.features, columns=breast_cancer_wisconsin.feature_names)\n",
    "df['target'] = breast_cancer_wisconsin.data.targets\n",
    "\n",
    "# Normalize features\n",
    "scaler = StandardScaler()\n",
    "features = df.drop('target', axis=1)\n",
    "scaled_features = scaler.fit_transform(features)\n",
    "df_scaled = pd.DataFrame(scaled_features, columns=features.columns)\n",
    "df_scaled['target'] = df['target']\n",
    "\n",
    "# Replace missing values if any\n",
    "df_scaled.replace('?', -99999, inplace=True)\n",
    "\n",
    "full_data = df_scaled.values.tolist()\n",
    "random.shuffle(full_data)\n",
    "\n",
    "# Split data\n",
    "test_size = 0.2\n",
    "split_index = int(len(full_data) * (1 - test_size))\n",
    "train_data = full_data[:split_index]\n",
    "test_data = full_data[split_index:]\n",
    "\n",
    "# Create train and test sets\n",
    "train_set = {2: [], 4: []}\n",
    "test_set = {2: [], 4: []}\n",
    "\n",
    "for i in train_data:\n",
    "    train_set[i[-1]].append(i[:-1])\n",
    "\n",
    "for i in test_data:\n",
    "    test_set[i[-1]].append(i[:-1])\n",
    "\n",
    "# Determine unique labels and choose appropriate k\n",
    "unique_labels = set(train_set.keys())\n",
    "k = min(len(unique_labels), 3)  # Choose k based on unique labels\n",
    "\n",
    "# Evaluate the model\n",
    "correct = 0\n",
    "total = 0\n",
    "\n",
    "for group in test_set:\n",
    "    for data in test_set[group]:\n",
    "        vote = k_nearest_neighbours(train_set, data, k=k)\n",
    "        if group == vote:\n",
    "            correct += 1\n",
    "        total += 1\n",
    "\n",
    "print('Accuracy:', correct / total)\n"
   ]
  },
  {
   "cell_type": "code",
   "execution_count": null,
   "id": "7ba6ebe5-29c8-40a0-a76b-8982a00a4e98",
   "metadata": {},
   "outputs": [],
   "source": []
  },
  {
   "cell_type": "code",
   "execution_count": null,
   "id": "c5b45e8b-eda4-4830-b305-4924340c8053",
   "metadata": {},
   "outputs": [],
   "source": []
  }
 ],
 "metadata": {
  "kernelspec": {
   "display_name": "Python 3 (ipykernel)",
   "language": "python",
   "name": "python3"
  },
  "language_info": {
   "codemirror_mode": {
    "name": "ipython",
    "version": 3
   },
   "file_extension": ".py",
   "mimetype": "text/x-python",
   "name": "python",
   "nbconvert_exporter": "python",
   "pygments_lexer": "ipython3",
   "version": "3.12.3"
  }
 },
 "nbformat": 4,
 "nbformat_minor": 5
}
