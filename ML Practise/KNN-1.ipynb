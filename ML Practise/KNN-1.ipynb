{
 "cells": [
  {
   "cell_type": "markdown",
   "id": "5fdbf3fc-9237-4dda-a118-9203d196a02a",
   "metadata": {},
   "source": [
    "# Classification w/ KNN"
   ]
  },
  {
   "cell_type": "code",
   "execution_count": null,
   "id": "8a340731-1684-4652-9b56-994b9f1747bd",
   "metadata": {},
   "outputs": [],
   "source": []
  },
  {
   "cell_type": "markdown",
   "id": "a9c08618-e9d8-4aac-8e0f-caeb74b1e2ca",
   "metadata": {},
   "source": [
    "**Euclidean Distance**"
   ]
  },
  {
   "cell_type": "code",
   "execution_count": 5,
   "id": "0d95dcf4-5f9b-49de-83c8-d9752ed54eea",
   "metadata": {},
   "outputs": [
    {
     "name": "stdout",
     "output_type": "stream",
     "text": [
      "2.23606797749979\n"
     ]
    }
   ],
   "source": [
    "from math import sqrt\n",
    "\n",
    "plot1 = [1,3]\n",
    "plot2= [2,5]\n",
    "\n",
    "euclidean_distance = sqrt( (plot1[0] - plot2[0])**2 + (plot1[1] - plot2[1])**2)\n",
    "print(euclidean_distance )"
   ]
  },
  {
   "cell_type": "code",
   "execution_count": null,
   "id": "61fc6b65-2111-40c8-ab52-a5098dcc2529",
   "metadata": {},
   "outputs": [],
   "source": []
  },
  {
   "cell_type": "code",
   "execution_count": 7,
   "id": "1c62bff0-fce1-492d-aaa1-157a8d21f739",
   "metadata": {},
   "outputs": [],
   "source": [
    "from math import sqrt\n",
    "import numpy as np\n",
    "import matplotlib.pyplot as plt\n",
    "from matplotlib import style\n",
    "\n",
    "style.use('fivethirtyeight')"
   ]
  },
  {
   "cell_type": "code",
   "execution_count": null,
   "id": "d82f7198-aa7d-411a-a14b-24e2530b7bb8",
   "metadata": {},
   "outputs": [],
   "source": [
    "dataset = { ' k :[[1,2] ,[2,.], []]'}"
   ]
  }
 ],
 "metadata": {
  "kernelspec": {
   "display_name": "Python 3 (ipykernel)",
   "language": "python",
   "name": "python3"
  },
  "language_info": {
   "codemirror_mode": {
    "name": "ipython",
    "version": 3
   },
   "file_extension": ".py",
   "mimetype": "text/x-python",
   "name": "python",
   "nbconvert_exporter": "python",
   "pygments_lexer": "ipython3",
   "version": "3.12.3"
  }
 },
 "nbformat": 4,
 "nbformat_minor": 5
}
